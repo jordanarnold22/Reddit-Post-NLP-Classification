{
 "cells": [
  {
   "cell_type": "markdown",
   "metadata": {},
   "source": [
    "# Executive Summary"
   ]
  },
  {
   "cell_type": "markdown",
   "metadata": {},
   "source": [
    "FiveThirtyEight is with out of doubt one of the most successful, and one of my personal favorite, analytics blogs out there today. The prospect of being able to write for such a well-respected blog is very exciting. It's only right that given the opportunity to pitch an idea to you I would analyze another website that I frequent, Reddit. Reddit has an average of 11 million posts per month, which needless to say is a huge amount. But what makes a Reddit post successful? Is there some kind of formula that you can follow to increase your chances of maximizing the amount of comments that your post receives?\n",
    "\n",
    "With over 14 billion monthly page views, 2.8 million daily comments, and 58 million daily votes, Reddit is a massive market for businesses looking to promote themselves. It provides a platform for anybody to create a community around a product. For example, the subreddit for the tv show Westworld has 469,000 subscribers that are able to connect with other fans and discuss the show, which in turn increases their interest in watching. It's easy to see the need for analytics on how to be a successful Reddit user.\n",
    "\n",
    "Looking into how to maximize the amount of comments on a given Reddit post I scraped the 1,000 top Reddit posts of the past month and looked at a number of features. I looked at the length of the title, the length of the text, the subreddit that the post came from, the hour that the post was created, the day of the week that the post was created, and the frequency of words used in the title. Out of these, the subreddit and the length of the title were my most successful variables. A shorter title length has a greater result of being successful, which could potentially be attributed to the decreased attention spans of the younger generations. I created several models, a few of which are able to predict the success of a Reddit post (above/below the median of my dataset) with 75% accuracy.\n",
    "\n",
    "I have been a longtime reader of FiveThirtyEight and I would jump at the opportunity to be able to publish some of my work on a publication that has meant so much to my development as a data scientist. I believe that my work has the potential to change the ways that people market on Reddit by maximizing their potential to be successful. Not to mention, I think it would please the existing FiveThirtyEight readers and maybe even bring some new ones on board. I look forward to presenting my idea to you and I hope we can make it happen!\n"
   ]
  }
 ],
 "metadata": {
  "kernelspec": {
   "display_name": "Python 3",
   "language": "python",
   "name": "python3"
  },
  "language_info": {
   "codemirror_mode": {
    "name": "ipython",
    "version": 3
   },
   "file_extension": ".py",
   "mimetype": "text/x-python",
   "name": "python",
   "nbconvert_exporter": "python",
   "pygments_lexer": "ipython3",
   "version": "3.6.4"
  }
 },
 "nbformat": 4,
 "nbformat_minor": 2
}
